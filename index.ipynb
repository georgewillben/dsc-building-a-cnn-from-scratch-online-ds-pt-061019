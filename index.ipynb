{
 "cells": [
  {
   "cell_type": "markdown",
   "metadata": {},
   "source": [
    "Some of the code in this lab was taken from the solution at https://github.com/learn-co-curriculum/dsc-building-a-cnn-from-scratch/tree/solution"
   ]
  },
  {
   "cell_type": "markdown",
   "metadata": {},
   "source": [
    "# Building a CNN from Scratch - Lab\n",
    "\n",
    "## Introduction\n",
    "\n",
    "Now that you have background knowledge regarding how CNNs work and how to build them using Keras, its time to practice those skills a little more independently in order to build a CNN on your own to solve a image recognition problem. In this lab, you'll practice building an image classifier from start to finish using a CNN.  \n",
    "\n",
    "## Objectives\n",
    "\n",
    "In this lab you will: \n",
    "\n",
    "- Load images from a hierarchical file structure using an image datagenerator \n",
    "- Apply data augmentation to image files before training a neural network \n",
    "- Build a CNN using Keras \n",
    "- Visualize and evaluate the performance of CNN models \n",
    "\n",
    "## Loading the Images\n",
    "\n",
    "The data for this lab concerns lung xray images for pneumonia. The original dataset is from Kaggle. We have downsampled this dataset in order to reduce training time for you when you design and fit your model to the data. ⏰ It is anticipated that this process will take approximately one hour to run on a standard machine, although times will vary depending on your particular computer and set up. At the end of this lab, you are welcome to try training on the complete dataset and observe the impact on the model's overall accuracy. \n",
    "\n",
    "You can find the initial downsampled dataset in a subdirectory, **chest_xray**, of this repository. "
   ]
  },
  {
   "cell_type": "code",
   "execution_count": 1,
   "metadata": {},
   "outputs": [],
   "source": [
    "# Load the images; be sure to also preprocess these into tensors \n",
    "\n",
    "train_dir = 'chest_xray_downsampled/train'\n",
    "validation_dir = 'chest_xray_downsampled/val/'\n",
    "test_dir = 'chest_xray_downsampled/test/' "
   ]
  },
  {
   "cell_type": "code",
   "execution_count": 21,
   "metadata": {},
   "outputs": [],
   "source": [
    "import os\n",
    "from keras.preprocessing.image import ImageDataGenerator, array_to_img, img_to_array, load_img"
   ]
  },
  {
   "cell_type": "code",
   "execution_count": 27,
   "metadata": {
    "scrolled": true
   },
   "outputs": [
    {
     "name": "stdout",
     "output_type": "stream",
     "text": [
      "length of train images: 1738\n",
      "length of validation images: 4\n",
      "length of test images: 208\n"
     ]
    }
   ],
   "source": [
    "# finding out how many images are in each directory\n",
    "train_imgs = [file for file in os.listdir(train_dir+'/NORMAL') if file.endswith('.jpeg')] + [\n",
    "   file for file in os.listdir(train_dir+'/PNEUMONIA') if file.endswith('.jpeg')]\n",
    "print('length of train images:', len(train_imgs))\n",
    "\n",
    "val_imgs = [file for file in os.listdir(validation_dir+'/NORMAL') if file.endswith('.jpeg')] + [\n",
    "   file for file in os.listdir(validation_dir+'/PNEUMONIA') if file.endswith('.jpeg')]\n",
    "print('length of validation images:', len(val_imgs))\n",
    "\n",
    "test_imgs = [file for file in os.listdir(test_dir+'/NORMAL') if file.endswith('.jpeg')] + [\n",
    "   file for file in os.listdir(test_dir+'/PNEUMONIA') if file.endswith('.jpeg')]\n",
    "print('length of test images:', len(test_imgs))"
   ]
  },
  {
   "cell_type": "code",
   "execution_count": 29,
   "metadata": {},
   "outputs": [
    {
     "name": "stdout",
     "output_type": "stream",
     "text": [
      "Found 1738 images belonging to 2 classes.\n",
      "Found 4 images belonging to 2 classes.\n",
      "Found 208 images belonging to 2 classes.\n"
     ]
    }
   ],
   "source": [
    "# this code taken from the solution at https://github.com/learn-co-curriculum/dsc-building-a-cnn-from-scratch/tree/solution\n",
    "\n",
    "# Creating data generators to help get the data in a usable form\n",
    "train_gen = ImageDataGenerator(rescale=1./255).flow_from_directory(train_dir,\n",
    "                                                                  target_size=(150, 150), # reshape all images to be 150 x 150\n",
    "                                                                  batch_size = 20,\n",
    "                                                                  class_mode = 'binary') # set class mode to binary\n",
    "\n",
    "val_gen = ImageDataGenerator(rescale=1./255).flow_from_directory(validation_dir,\n",
    "                                                                  target_size=(150, 150), # reshape all images to be 150 x 150\n",
    "                                                                  batch_size = 20,\n",
    "                                                                  class_mode = 'binary') # set class mode to binary\n",
    "\n",
    "test_gen = ImageDataGenerator(rescale=1./255).flow_from_directory(test_dir,\n",
    "                                                                  target_size=(150, 150), # reshape all images to be 150 x 150\n",
    "                                                                  batch_size = 20,\n",
    "                                                                  class_mode = 'binary') # set class mode to binary"
   ]
  },
  {
   "cell_type": "markdown",
   "metadata": {},
   "source": [
    "## Designing the Model\n",
    "\n",
    "Now it's time to design your CNN using Keras! Remember a few things when doing this: \n",
    "\n",
    "- You should alternate convolutional and pooling layers\n",
    "- You should have later layers have a larger number of parameters in order to detect more abstract patterns\n",
    "- Add some final dense layers to add a classifier to the convolutional base \n",
    "- Compile this model "
   ]
  },
  {
   "cell_type": "code",
   "execution_count": 3,
   "metadata": {},
   "outputs": [
    {
     "name": "stderr",
     "output_type": "stream",
     "text": [
      "Using TensorFlow backend.\n"
     ]
    }
   ],
   "source": [
    "from keras.models import Sequential\n",
    "from keras.layers import Dense, Conv2D, MaxPooling2D, Flatten"
   ]
  },
  {
   "cell_type": "code",
   "execution_count": 31,
   "metadata": {},
   "outputs": [],
   "source": [
    "# this code taken from the solution at https://github.com/learn-co-curriculum/dsc-building-a-cnn-from-scratch/tree/solution\n",
    "# Your code here; design and compile the model\n",
    "model = Sequential()\n",
    "model.add(Conv2D(32, (3,3), activation='relu', input_shape=(150, 150, 3)))\n",
    "model.add(MaxPooling2D((2,2)))\n",
    "model.add(Conv2D(64, (3,3), activation='relu'))\n",
    "model.add(MaxPooling2D((2,2)))\n",
    "model.add(Conv2D(128, (3,3), activation='relu'))\n",
    "model.add(MaxPooling2D((2,2)))\n",
    "model.add(Conv2D(128, (3,3), activation='relu'))\n",
    "model.add(MaxPooling2D((2,2)))\n",
    "model.add(Flatten())\n",
    "model.add(Dense(512, activation='relu'))\n",
    "model.add(Dense(1, activation='sigmoid'))     "
   ]
  },
  {
   "cell_type": "code",
   "execution_count": 33,
   "metadata": {},
   "outputs": [],
   "source": [
    "# this code taken from the solution at https://github.com/learn-co-curriculum/dsc-building-a-cnn-from-scratch/tree/solution\n",
    "from keras.optimizers import RMSprop\n",
    "\n",
    "model.compile(loss='binary_crossentropy', optimizer=RMSprop(lr=1e-4), metrics=['acc'])"
   ]
  },
  {
   "cell_type": "markdown",
   "metadata": {},
   "source": [
    "## Training and Evaluating the Model\n",
    "\n",
    "Remember that training deep networks is resource intensive: depending on the size of the data, even a CNN with 3-4 successive convolutional and pooling layers is apt to take a hours to train on a high end laptop. Using 30 epochs and 8 layers (alternating between convolutional and pooling), our model took about 40 minutes to run on a year old macbook pro.\n",
    "\n",
    "\n",
    "If you are concerned with runtime, you may want to set your model to run the training epochs overnight.  \n",
    "\n",
    "**If you are going to run this process overnight, be sure to also script code for the following questions concerning data augmentation. Check your code twice (or more) and then set the notebook to run all, or something equivalent to have them train overnight.** "
   ]
  },
  {
   "cell_type": "code",
   "execution_count": 34,
   "metadata": {},
   "outputs": [
    {
     "name": "stdout",
     "output_type": "stream",
     "text": [
      "Epoch 1/30\n",
      "100/100 [==============================] - 46s 465ms/step - loss: 0.4820 - acc: 0.7881 - val_loss: 0.8594 - val_acc: 0.7500\n",
      "Epoch 2/30\n",
      "100/100 [==============================] - 45s 446ms/step - loss: 0.2557 - acc: 0.8990 - val_loss: 0.8292 - val_acc: 0.7500\n",
      "Epoch 3/30\n",
      "100/100 [==============================] - 45s 450ms/step - loss: 0.1745 - acc: 0.9319 - val_loss: 0.8383 - val_acc: 0.7500\n",
      "Epoch 4/30\n",
      "100/100 [==============================] - 45s 451ms/step - loss: 0.1333 - acc: 0.9475 - val_loss: 1.5116 - val_acc: 0.5000\n",
      "Epoch 5/30\n",
      "100/100 [==============================] - 45s 449ms/step - loss: 0.1083 - acc: 0.9599 - val_loss: 0.8454 - val_acc: 0.7500\n",
      "Epoch 6/30\n",
      "100/100 [==============================] - 46s 458ms/step - loss: 0.0998 - acc: 0.9550 - val_loss: 0.6453 - val_acc: 0.7500\n",
      "Epoch 7/30\n",
      "100/100 [==============================] - 47s 474ms/step - loss: 0.0814 - acc: 0.9695 - val_loss: 0.7102 - val_acc: 0.7500\n",
      "Epoch 8/30\n",
      "100/100 [==============================] - 44s 445ms/step - loss: 0.0743 - acc: 0.9730 - val_loss: 1.4144 - val_acc: 0.7500\n",
      "Epoch 9/30\n",
      "100/100 [==============================] - 44s 444ms/step - loss: 0.0666 - acc: 0.9750 - val_loss: 0.7582 - val_acc: 0.7500\n",
      "Epoch 10/30\n",
      "100/100 [==============================] - 45s 454ms/step - loss: 0.0596 - acc: 0.9749 - val_loss: 1.3798 - val_acc: 0.7500\n",
      "Epoch 11/30\n",
      "100/100 [==============================] - 46s 460ms/step - loss: 0.0553 - acc: 0.9785 - val_loss: 0.9798 - val_acc: 0.7500\n",
      "Epoch 12/30\n",
      "100/100 [==============================] - 46s 461ms/step - loss: 0.0409 - acc: 0.9870 - val_loss: 1.4443 - val_acc: 0.7500\n",
      "Epoch 13/30\n",
      "100/100 [==============================] - 46s 455ms/step - loss: 0.0458 - acc: 0.9845 - val_loss: 1.0125 - val_acc: 0.7500\n",
      "Epoch 14/30\n",
      "100/100 [==============================] - 47s 469ms/step - loss: 0.0354 - acc: 0.9895 - val_loss: 1.0382 - val_acc: 0.5000\n",
      "Epoch 15/30\n",
      "100/100 [==============================] - 44s 444ms/step - loss: 0.0311 - acc: 0.9890 - val_loss: 2.4694 - val_acc: 0.5000\n",
      "Epoch 16/30\n",
      "100/100 [==============================] - 45s 450ms/step - loss: 0.0358 - acc: 0.9865 - val_loss: 0.9403 - val_acc: 0.7500\n",
      "Epoch 17/30\n",
      "100/100 [==============================] - 46s 455ms/step - loss: 0.0256 - acc: 0.9925 - val_loss: 1.6217 - val_acc: 0.7500\n",
      "Epoch 18/30\n",
      "100/100 [==============================] - 45s 448ms/step - loss: 0.0200 - acc: 0.9935 - val_loss: 1.1443 - val_acc: 0.7500\n",
      "Epoch 19/30\n",
      "100/100 [==============================] - 45s 447ms/step - loss: 0.0183 - acc: 0.9930 - val_loss: 2.0863 - val_acc: 0.7500\n",
      "Epoch 20/30\n",
      "100/100 [==============================] - 46s 462ms/step - loss: 0.0163 - acc: 0.9930 - val_loss: 0.8975 - val_acc: 0.7500\n",
      "Epoch 21/30\n",
      "100/100 [==============================] - 48s 479ms/step - loss: 0.0120 - acc: 0.9955 - val_loss: 1.0736 - val_acc: 0.7500\n",
      "Epoch 22/30\n",
      "100/100 [==============================] - 46s 464ms/step - loss: 0.0098 - acc: 0.9970 - val_loss: 1.4639 - val_acc: 0.7500\n",
      "Epoch 23/30\n",
      "100/100 [==============================] - 46s 461ms/step - loss: 0.0080 - acc: 0.9965 - val_loss: 4.9471 - val_acc: 0.5000\n",
      "Epoch 24/30\n",
      "100/100 [==============================] - 46s 455ms/step - loss: 0.0118 - acc: 0.9955 - val_loss: 1.1532 - val_acc: 0.7500\n",
      "Epoch 25/30\n",
      "100/100 [==============================] - 44s 444ms/step - loss: 0.0056 - acc: 0.9985 - val_loss: 1.4350 - val_acc: 0.7500\n",
      "Epoch 26/30\n",
      "100/100 [==============================] - 44s 443ms/step - loss: 0.0072 - acc: 0.9975 - val_loss: 1.2103 - val_acc: 0.7500\n",
      "Epoch 27/30\n",
      "100/100 [==============================] - 45s 452ms/step - loss: 0.0046 - acc: 0.9985 - val_loss: 1.7036 - val_acc: 0.7500\n",
      "Epoch 28/30\n",
      "100/100 [==============================] - 44s 440ms/step - loss: 0.0037 - acc: 0.9990 - val_loss: 1.8676 - val_acc: 0.7500\n",
      "Epoch 29/30\n",
      "100/100 [==============================] - 44s 439ms/step - loss: 0.0036 - acc: 0.9985 - val_loss: 2.0252 - val_acc: 0.7500\n",
      "Epoch 30/30\n",
      "100/100 [==============================] - 44s 437ms/step - loss: 0.0030 - acc: 0.9990 - val_loss: 1.9262 - val_acc: 0.7500\n"
     ]
    }
   ],
   "source": [
    "# this code taken from the solution at https://github.com/learn-co-curriculum/dsc-building-a-cnn-from-scratch/tree/solution\n",
    "# Set the model to train \n",
    "# ⏰ This cell may take several minutes to run \n",
    "history = model.fit_generator(train_gen,\n",
    "                             epochs=30,\n",
    "                             steps_per_epoch=100,\n",
    "                             validation_data=val_gen,\n",
    "                             validation_steps=50)"
   ]
  },
  {
   "cell_type": "code",
   "execution_count": 36,
   "metadata": {},
   "outputs": [
    {
     "data": {
      "image/png": "[encoded data removed]",
      "text/plain": [
       "<Figure size 432x288 with 1 Axes>"
      ]
     },
     "metadata": {
      "needs_background": "light"
     },
     "output_type": "display_data"
    },
    {
     "data": {
      "image/png": "[encoded data removed]",
      "text/plain": [
       "<Figure size 432x288 with 1 Axes>"
      ]
     },
     "metadata": {
      "needs_background": "light"
     },
     "output_type": "display_data"
    }
   ],
   "source": [
    "# Plot history\n",
    "import matplotlib.pyplot as plt\n",
    "%matplotlib inline\n",
    "\n",
    "plt.plot(history.history['loss'], label='loss')\n",
    "plt.plot(history.history['val_loss'], label='val_loss')\n",
    "plt.title('Training Loss and Validation Loss vs No. of Epochs')\n",
    "plt.xlabel('Epochs')\n",
    "plt.ylabel('Loss')\n",
    "plt.legend()\n",
    "plt.show()\n",
    "\n",
    "plt.plot(history.history['acc'], label='accuracy')\n",
    "plt.plot(history.history['val_acc'], label='val_accuracy')\n",
    "plt.title('Training Accuracy and Validation Accuracy vs No. of Epochs')\n",
    "plt.xlabel('Epochs')\n",
    "plt.ylabel('Accuracy')\n",
    "plt.legend()\n",
    "plt.show()"
   ]
  },
  {
   "cell_type": "markdown",
   "metadata": {},
   "source": [
    "## Save the Model"
   ]
  },
  {
   "cell_type": "code",
   "execution_count": 37,
   "metadata": {},
   "outputs": [],
   "source": [
    "# this code taken from the solution at https://github.com/learn-co-curriculum/dsc-building-a-cnn-from-scratch/tree/solution\n",
    "# Your code here; save the model for future reference \n",
    "model.save('chest_xray_downsampled_data.h5')"
   ]
  },
  {
   "cell_type": "markdown",
   "metadata": {},
   "source": [
    "## Data Augmentation\n",
    "\n",
    "Recall that data augmentation is typically always a necessary step when using a small dataset as this one which you have been provided. As such, if you haven't already, implement a data augmentation setup.\n",
    "\n",
    "**Warning: ⏰ This process took nearly 4 hours to run on a relatively new macbook pro. As such, it is recommended that you simply code the setup and compare to the solution branch, or set the process to run overnight if you do choose to actually run the code.** "
   ]
  },
  {
   "cell_type": "code",
   "execution_count": null,
   "metadata": {},
   "outputs": [],
   "source": [
    "# this code taken from the solution at https://github.com/learn-co-curriculum/dsc-building-a-cnn-from-scratch/tree/solution\n",
    "# Add data augmentation to the model setup and set the model to train; \n",
    "# See warnings above if you intend to run this block of code \n",
    "# ⏰ This cell may take several hours to run \n",
    "\n",
    "train_datagen = ImageDataGenerator(rotation_range=40,\n",
    "                                  width_shift_range=0.2,\n",
    "                                  height_shift_range=0.2,\n",
    "                                   shear_range=0.2,\n",
    "                                   zoom_range=0.2,\n",
    "                                   horizontal_flip=True,\n",
    "                                   fill_mode='nearest')\n",
    "\n",
    "test_datagen = ImageDataGenerator(rescale=1./255)\n",
    "\n",
    "train_gen = train_datagen.flow_from_directory(train_dir,\n",
    "                                             target_size=(150, 150),\n",
    "                                              batch_size=32,\n",
    "                                              class_mode='binary')\n",
    "\n",
    "val_gen = test_datagen.flow_from_directory(validation_dir,\n",
    "                                           target_size=(150, 150)\n",
    "                                           batch_size=32,\n",
    "                                           class_mode='binary')\n",
    "\n",
    "history = model.fit_generator(train_gen,\n",
    "                             steps_per_epoch=100,\n",
    "                             epochs=100,\n",
    "                             validation_data=val_gen,\n",
    "                             validation_steps=50)\n",
    "                                     "
   ]
  },
  {
   "cell_type": "code",
   "execution_count": null,
   "metadata": {},
   "outputs": [],
   "source": [
    "plt.plot(history.history['loss'], label='loss')\n",
    "plt.plot(history.history['val_loss', label='val_loss'])\n",
    "plt.title('Training Loss and Validation Loss vs No. of Epochs')\n",
    "plt.xlabel('Epochs')\n",
    "plt.ylabel('Loss')\n",
    "plt.legend()\n",
    "plt.show()\n",
    "\n",
    "plt.plot(history.history['acc'], label='accuracy')\n",
    "plt.plot(history.history['val_acc'], label='val_accuracy')\n",
    "plt.title('Training Accuracy and Validation Accuracy vs No. of Epochs')\n",
    "plt.xlabel('Epochs')\n",
    "plt.ylabel('Accuracy')\n",
    "plt.legend()\n",
    "plt.show()"
   ]
  },
  {
   "cell_type": "markdown",
   "metadata": {},
   "source": [
    "Save the model for future reference.  "
   ]
  },
  {
   "cell_type": "code",
   "execution_count": null,
   "metadata": {},
   "outputs": [],
   "source": [
    "# this code taken from the solution at https://github.com/learn-co-curriculum/dsc-building-a-cnn-from-scratch/tree/solution\n",
    "# Save the model \n",
    "model.save('chest_xray_downsampled_with_augmentation_data.h5')"
   ]
  },
  {
   "cell_type": "markdown",
   "metadata": {},
   "source": [
    "## Final Evaluation\n",
    "\n",
    "Now use the test set to perform a final evaluation on your model of choice. "
   ]
  },
  {
   "cell_type": "code",
   "execution_count": 38,
   "metadata": {},
   "outputs": [
    {
     "data": {
      "text/plain": [
       "[0.5327368378639221, 0.769957959651947]"
      ]
     },
     "execution_count": 38,
     "metadata": {},
     "output_type": "execute_result"
    }
   ],
   "source": [
    "# this code taken from the solution at https://github.com/learn-co-curriculum/dsc-building-a-cnn-from-scratch/tree/solution\n",
    "# Your code here \n",
    "# Perform a final evaluation using the test set\n",
    "model.evaluate_generator(test_gen, steps=50)"
   ]
  },
  {
   "cell_type": "markdown",
   "metadata": {},
   "source": [
    "## Level Up (Optional): Adding More Data to the Model\n",
    "\n",
    "As discussed, the current dataset we worked with is a subset of a dataset hosted on Kaggle. Increasing the data that we use to train the model will result in additional performance gains but will also result in longer training times and be more resource intensive.   \n",
    "\n",
    "⏰ It is estimated that training on the full dataset will take approximately 4 hours (and potentially significantly longer) depending on your computer's specifications.\n",
    "\n",
    "In order to test the impact of training on the full dataset, start by downloading the data from Kaggle here: https://www.kaggle.com/paultimothymooney/chest-xray-pneumonia.   "
   ]
  },
  {
   "cell_type": "code",
   "execution_count": null,
   "metadata": {},
   "outputs": [],
   "source": [
    "# Optional extension; Your code here\n",
    "# ⏰ This cell may take several hours to run "
   ]
  },
  {
   "cell_type": "markdown",
   "metadata": {},
   "source": [
    "## Summary\n",
    "\n",
    "Well done! In this lab, you practice building your own CNN for image recognition which drastically outperformed our previous attempts using a standard deep learning model alone. In the upcoming sections, we'll continue to investigate further techniques associated with CNNs including visualizing the representations they learn and techniques to further bolster their performance when we have limited training data such as here."
   ]
  }
 ],
 "metadata": {
  "kernelspec": {
   "display_name": "Python 3",
   "language": "python",
   "name": "python3"
  },
  "language_info": {
   "codemirror_mode": {
    "name": "ipython",
    "version": 3
   },
   "file_extension": ".py",
   "mimetype": "text/x-python",
   "name": "python",
   "nbconvert_exporter": "python",
   "pygments_lexer": "ipython3",
   "version": "3.7.3"
  },
  "toc": {
   "base_numbering": 1,
   "nav_menu": {},
   "number_sections": true,
   "sideBar": true,
   "skip_h1_title": false,
   "title_cell": "Table of Contents",
   "title_sidebar": "Contents",
   "toc_cell": false,
   "toc_position": {},
   "toc_section_display": true,
   "toc_window_display": false
  }
 },
 "nbformat": 4,
 "nbformat_minor": 2
}
